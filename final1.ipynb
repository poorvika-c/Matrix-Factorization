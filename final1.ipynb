{
 "cells": [
  {
   "cell_type": "code",
   "execution_count": 3,
   "metadata": {},
   "outputs": [],
   "source": [
    "import numpy as np\n",
    "import pandas as pd\n",
    "from collections import Counter\n",
    "from sklearn.model_selection import train_test_split\n",
    "from scipy import sparse"
   ]
  },
  {
   "cell_type": "code",
   "execution_count": 4,
   "metadata": {},
   "outputs": [
    {
     "name": "stdout",
     "output_type": "stream",
     "text": [
      "   user_id  anime_id  rating\n",
      "0        1        20      -1\n",
      "1        1        24      -1\n",
      "2        1        79      -1\n",
      "3        1       226      -1\n",
      "4        1       241      -1\n"
     ]
    }
   ],
   "source": [
    "anime_ratings_df = pd.read_csv(\"rating.csv\")\n",
    "anime_ratings_df.shape\n",
    "print(anime_ratings_df.head())"
   ]
  },
  {
   "cell_type": "code",
   "execution_count": 5,
   "metadata": {},
   "outputs": [
    {
     "name": "stdout",
     "output_type": "stream",
     "text": [
      "(6337241, 3)\n"
     ]
    },
    {
     "data": {
      "text/html": [
       "<div>\n",
       "<style scoped>\n",
       "    .dataframe tbody tr th:only-of-type {\n",
       "        vertical-align: middle;\n",
       "    }\n",
       "\n",
       "    .dataframe tbody tr th {\n",
       "        vertical-align: top;\n",
       "    }\n",
       "\n",
       "    .dataframe thead th {\n",
       "        text-align: right;\n",
       "    }\n",
       "</style>\n",
       "<table border=\"1\" class=\"dataframe\">\n",
       "  <thead>\n",
       "    <tr style=\"text-align: right;\">\n",
       "      <th></th>\n",
       "      <th>user_id</th>\n",
       "      <th>anime_id</th>\n",
       "      <th>rating</th>\n",
       "    </tr>\n",
       "  </thead>\n",
       "  <tbody>\n",
       "    <tr>\n",
       "      <th>0</th>\n",
       "      <td>1</td>\n",
       "      <td>8074</td>\n",
       "      <td>10</td>\n",
       "    </tr>\n",
       "    <tr>\n",
       "      <th>1</th>\n",
       "      <td>1</td>\n",
       "      <td>11617</td>\n",
       "      <td>10</td>\n",
       "    </tr>\n",
       "    <tr>\n",
       "      <th>2</th>\n",
       "      <td>1</td>\n",
       "      <td>11757</td>\n",
       "      <td>10</td>\n",
       "    </tr>\n",
       "    <tr>\n",
       "      <th>3</th>\n",
       "      <td>1</td>\n",
       "      <td>15451</td>\n",
       "      <td>10</td>\n",
       "    </tr>\n",
       "    <tr>\n",
       "      <th>4</th>\n",
       "      <td>2</td>\n",
       "      <td>11771</td>\n",
       "      <td>10</td>\n",
       "    </tr>\n",
       "  </tbody>\n",
       "</table>\n",
       "</div>"
      ],
      "text/plain": [
       "   user_id  anime_id  rating\n",
       "0        1      8074      10\n",
       "1        1     11617      10\n",
       "2        1     11757      10\n",
       "3        1     15451      10\n",
       "4        2     11771      10"
      ]
     },
     "execution_count": 5,
     "metadata": {},
     "output_type": "execute_result"
    }
   ],
   "source": [
    "anime_ratings = anime_ratings_df.loc[anime_ratings_df.rating != -1].reset_index()[['user_id','anime_id','rating']]\n",
    "print(anime_ratings.shape)\n",
    "anime_ratings.head()"
   ]
  },
  {
   "cell_type": "code",
   "execution_count": 6,
   "metadata": {},
   "outputs": [],
   "source": [
    "train_df, valid_df = train_test_split(anime_ratings, test_size=0.2)"
   ]
  },
  {
   "cell_type": "code",
   "execution_count": 7,
   "metadata": {},
   "outputs": [],
   "source": [
    "#resetting indices to avoid indexing errors in the future\n",
    "train_df = train_df.reset_index()[['user_id', 'anime_id', 'rating']]\n",
    "valid_df = valid_df.reset_index()[['user_id', 'anime_id', 'rating']]"
   ]
  },
  {
   "cell_type": "code",
   "execution_count": 8,
   "metadata": {},
   "outputs": [],
   "source": [
    "def col_encode(column):\n",
    "\tkeys = column.unique()\n",
    "\tkey_to_id = {key:idx for idx,key in enumerate(keys)}\n",
    "\treturn key_to_id , np.array([key_to_id[x] for x in column]) , len(keys)"
   ]
  },
  {
   "cell_type": "code",
   "execution_count": 9,
   "metadata": {},
   "outputs": [],
   "source": [
    "def df_encode(anime_df):\n",
    "    anime_ids, anime_df['anime_id'], num_anime = col_encode(anime_df['anime_id'])\n",
    "    user_ids, anime_df['user_id'], num_users = col_encode(anime_df['user_id'])\n",
    "    return anime_df, num_users, num_anime, user_ids, anime_ids\t"
   ]
  },
  {
   "cell_type": "code",
   "execution_count": 10,
   "metadata": {},
   "outputs": [
    {
     "name": "stdout",
     "output_type": "stream",
     "text": [
      "Number of users : 68875\n",
      "Number of anime : 9723\n"
     ]
    },
    {
     "data": {
      "text/html": [
       "<div>\n",
       "<style scoped>\n",
       "    .dataframe tbody tr th:only-of-type {\n",
       "        vertical-align: middle;\n",
       "    }\n",
       "\n",
       "    .dataframe tbody tr th {\n",
       "        vertical-align: top;\n",
       "    }\n",
       "\n",
       "    .dataframe thead th {\n",
       "        text-align: right;\n",
       "    }\n",
       "</style>\n",
       "<table border=\"1\" class=\"dataframe\">\n",
       "  <thead>\n",
       "    <tr style=\"text-align: right;\">\n",
       "      <th></th>\n",
       "      <th>user_id</th>\n",
       "      <th>anime_id</th>\n",
       "      <th>rating</th>\n",
       "    </tr>\n",
       "  </thead>\n",
       "  <tbody>\n",
       "    <tr>\n",
       "      <th>0</th>\n",
       "      <td>0</td>\n",
       "      <td>0</td>\n",
       "      <td>6</td>\n",
       "    </tr>\n",
       "    <tr>\n",
       "      <th>1</th>\n",
       "      <td>1</td>\n",
       "      <td>1</td>\n",
       "      <td>7</td>\n",
       "    </tr>\n",
       "    <tr>\n",
       "      <th>2</th>\n",
       "      <td>2</td>\n",
       "      <td>2</td>\n",
       "      <td>8</td>\n",
       "    </tr>\n",
       "    <tr>\n",
       "      <th>3</th>\n",
       "      <td>3</td>\n",
       "      <td>3</td>\n",
       "      <td>9</td>\n",
       "    </tr>\n",
       "    <tr>\n",
       "      <th>4</th>\n",
       "      <td>4</td>\n",
       "      <td>4</td>\n",
       "      <td>8</td>\n",
       "    </tr>\n",
       "  </tbody>\n",
       "</table>\n",
       "</div>"
      ],
      "text/plain": [
       "   user_id  anime_id  rating\n",
       "0        0         0       6\n",
       "1        1         1       7\n",
       "2        2         2       8\n",
       "3        3         3       9\n",
       "4        4         4       8"
      ]
     },
     "execution_count": 10,
     "metadata": {},
     "output_type": "execute_result"
    }
   ],
   "source": [
    "anime_df, num_users, num_anime, user_ids, anime_ids = df_encode(train_df)\n",
    "print(\"Number of users :\", num_users)\n",
    "print(\"Number of anime :\", num_anime)\n",
    "anime_df.head()\n"
   ]
  },
  {
   "cell_type": "code",
   "execution_count": 11,
   "metadata": {},
   "outputs": [],
   "source": [
    "def create_embeddings(n, K):\n",
    "    \"\"\"\n",
    "    Creates a random numpy matrix of shape n, K with uniform values in (0, 11/K)\n",
    "    n: number of items/users\n",
    "    K: number of factors in the embedding \n",
    "    \"\"\"\n",
    "    return 11*np.random.random((n, K)) / K"
   ]
  },
  {
   "cell_type": "code",
   "execution_count": 12,
   "metadata": {},
   "outputs": [],
   "source": [
    "def create_sparse_matrix(df, rows, cols, column_name=\"rating\"):\n",
    "    \"\"\" Returns a sparse utility matrix\"\"\" \n",
    "    return sparse.csc_matrix((df[column_name].values,(df['user_id'].values, df['anime_id'].values)),shape=(rows, cols))\n"
   ]
  },
  {
   "cell_type": "code",
   "execution_count": 13,
   "metadata": {},
   "outputs": [],
   "source": [
    "anime_df, num_users, num_anime, user_ids, anime_ids = df_encode(train_df)\n",
    "Y = create_sparse_matrix(anime_df, num_users, num_anime)"
   ]
  },
  {
   "cell_type": "code",
   "execution_count": 14,
   "metadata": {},
   "outputs": [],
   "source": [
    "def predict(df, emb_user, emb_anime):\n",
    "    \"\"\" This function computes df[\"prediction\"] without doing (U*V^T).\n",
    "    \n",
    "    Computes df[\"prediction\"] by using elementwise multiplication of the corresponding embeddings and then \n",
    "    sum to get the prediction u_i*v_j. This avoids creating the dense matrix U*V^T.\n",
    "    \"\"\"\n",
    "    df['prediction'] = np.sum(np.multiply(emb_anime[df['anime_id']],emb_user[df['user_id']]), axis=1)\n",
    "    return df"
   ]
  },
  {
   "cell_type": "code",
   "execution_count": 15,
   "metadata": {},
   "outputs": [],
   "source": [
    "lmbda = 0.0002\n",
    "\n",
    "def cost(df, emb_user, emb_anime):\n",
    "    \"\"\" Computes mean square error\"\"\"\n",
    "    Y = create_sparse_matrix(df, emb_user.shape[0], emb_anime.shape[0])\n",
    "    predicted = create_sparse_matrix(predict(df, emb_user, emb_anime), emb_user.shape[0], emb_anime.shape[0], 'prediction')\n",
    "    return np.sum((Y-predicted).power(2))/df.shape[0] "
   ]
  },
  {
   "cell_type": "code",
   "execution_count": 16,
   "metadata": {},
   "outputs": [],
   "source": [
    "def gradient(df, emb_user, emb_anime):\n",
    "    \"\"\" Computes the gradient for user and anime embeddings\"\"\"\n",
    "    Y = create_sparse_matrix(df, emb_user.shape[0], emb_anime.shape[0])\n",
    "    predicted = create_sparse_matrix(predict(df, emb_user, emb_anime), emb_user.shape[0], emb_anime.shape[0], 'prediction')\n",
    "    delta =(Y-predicted)\n",
    "    grad_user = (-2/df.shape[0])*(delta*emb_anime) + 2*lmbda*emb_user\n",
    "    grad_anime = (-2/df.shape[0])*(delta.T*emb_user) + 2*lmbda*emb_anime\n",
    "    return grad_user, grad_anime"
   ]
  },
  {
   "cell_type": "code",
   "execution_count": 17,
   "metadata": {},
   "outputs": [],
   "source": [
    "def gradient_descent(df, emb_user, emb_anime, iterations=2000, learning_rate=0.01, df_val=None):\n",
    "    \"\"\" \n",
    "    Computes gradient descent with momentum (0.9) for given number of iterations.\n",
    "    emb_user: the trained user embedding\n",
    "    emb_anime: the trained anime embedding\n",
    "    \"\"\"\n",
    "    Y = create_sparse_matrix(df, emb_user.shape[0], emb_anime.shape[0])\n",
    "    beta = 0.9\n",
    "    grad_user, grad_anime = gradient(df, emb_user, emb_anime)\n",
    "    v_user = grad_user\n",
    "    v_anime = grad_anime\n",
    "    for i in range(iterations):\n",
    "        grad_user, grad_anime = gradient(df, emb_user, emb_anime)\n",
    "        v_user = beta*v_user + (1-beta)*grad_user\n",
    "        v_anime = beta*v_anime + (1-beta)*grad_anime\n",
    "        emb_user = emb_user - learning_rate*v_user\n",
    "        emb_anime = emb_anime - learning_rate*v_anime\n",
    "        if(not (i+1)%50):\n",
    "            print(\"\\niteration\", i+1, \":\")\n",
    "            print(\"train mse:\",  cost(df, emb_user, emb_anime))\n",
    "            if df_val is not None:\n",
    "                print(\"validation mse:\",  cost(df_val, emb_user, emb_anime))\n",
    "    return emb_user, emb_anime"
   ]
  },
  {
   "cell_type": "code",
   "execution_count": 18,
   "metadata": {},
   "outputs": [
    {
     "name": "stdout",
     "output_type": "stream",
     "text": [
      "\n",
      "iteration 50 :\n",
      "train mse: 16.10204818884032\n",
      "\n",
      "iteration 100 :\n",
      "train mse: 12.336755412873643\n",
      "\n",
      "iteration 150 :\n",
      "train mse: 10.535865352143981\n",
      "\n",
      "iteration 200 :\n",
      "train mse: 9.443781790450906\n",
      "\n",
      "iteration 250 :\n",
      "train mse: 8.69905493140073\n",
      "\n",
      "iteration 300 :\n",
      "train mse: 8.153074465633503\n",
      "\n",
      "iteration 350 :\n",
      "train mse: 7.732698746373368\n",
      "\n",
      "iteration 400 :\n",
      "train mse: 7.397569639202399\n",
      "\n",
      "iteration 450 :\n",
      "train mse: 7.123558796923377\n",
      "\n",
      "iteration 500 :\n",
      "train mse: 6.895348985925025\n",
      "\n",
      "iteration 550 :\n",
      "train mse: 6.702748323027263\n",
      "\n",
      "iteration 600 :\n",
      "train mse: 6.538710619291066\n",
      "\n",
      "iteration 650 :\n",
      "train mse: 6.398204897737338\n",
      "\n",
      "iteration 700 :\n",
      "train mse: 6.277537099028845\n"
     ]
    },
    {
     "ename": "KeyboardInterrupt",
     "evalue": "",
     "output_type": "error",
     "traceback": [
      "\u001b[1;31m---------------------------------------------------------------------------\u001b[0m",
      "\u001b[1;31mKeyboardInterrupt\u001b[0m                         Traceback (most recent call last)",
      "\u001b[1;32mc:\\Users\\cpoor\\Downloads\\Projects\\Matrix Factorization\\final1.ipynb Cell 16\u001b[0m in \u001b[0;36m<cell line: 3>\u001b[1;34m()\u001b[0m\n\u001b[0;32m      <a href='vscode-notebook-cell:/c%3A/Users/cpoor/Downloads/Projects/Matrix%20Factorization/final1.ipynb#X21sZmlsZQ%3D%3D?line=0'>1</a>\u001b[0m emb_user \u001b[39m=\u001b[39m create_embeddings(num_users, \u001b[39m3\u001b[39m)\n\u001b[0;32m      <a href='vscode-notebook-cell:/c%3A/Users/cpoor/Downloads/Projects/Matrix%20Factorization/final1.ipynb#X21sZmlsZQ%3D%3D?line=1'>2</a>\u001b[0m emb_anime \u001b[39m=\u001b[39m create_embeddings(num_anime, \u001b[39m3\u001b[39m)\n\u001b[1;32m----> <a href='vscode-notebook-cell:/c%3A/Users/cpoor/Downloads/Projects/Matrix%20Factorization/final1.ipynb#X21sZmlsZQ%3D%3D?line=2'>3</a>\u001b[0m emb_user, emb_anime \u001b[39m=\u001b[39m gradient_descent(anime_df, emb_user, emb_anime, iterations\u001b[39m=\u001b[39;49m\u001b[39m800\u001b[39;49m, learning_rate\u001b[39m=\u001b[39;49m\u001b[39m1\u001b[39;49m)\n",
      "\u001b[1;32mc:\\Users\\cpoor\\Downloads\\Projects\\Matrix Factorization\\final1.ipynb Cell 16\u001b[0m in \u001b[0;36mgradient_descent\u001b[1;34m(df, emb_user, emb_anime, iterations, learning_rate, df_val)\u001b[0m\n\u001b[0;32m     <a href='vscode-notebook-cell:/c%3A/Users/cpoor/Downloads/Projects/Matrix%20Factorization/final1.ipynb#X21sZmlsZQ%3D%3D?line=10'>11</a>\u001b[0m v_anime \u001b[39m=\u001b[39m grad_anime\n\u001b[0;32m     <a href='vscode-notebook-cell:/c%3A/Users/cpoor/Downloads/Projects/Matrix%20Factorization/final1.ipynb#X21sZmlsZQ%3D%3D?line=11'>12</a>\u001b[0m \u001b[39mfor\u001b[39;00m i \u001b[39min\u001b[39;00m \u001b[39mrange\u001b[39m(iterations):\n\u001b[1;32m---> <a href='vscode-notebook-cell:/c%3A/Users/cpoor/Downloads/Projects/Matrix%20Factorization/final1.ipynb#X21sZmlsZQ%3D%3D?line=12'>13</a>\u001b[0m     grad_user, grad_anime \u001b[39m=\u001b[39m gradient(df, emb_user, emb_anime)\n\u001b[0;32m     <a href='vscode-notebook-cell:/c%3A/Users/cpoor/Downloads/Projects/Matrix%20Factorization/final1.ipynb#X21sZmlsZQ%3D%3D?line=13'>14</a>\u001b[0m     v_user \u001b[39m=\u001b[39m beta\u001b[39m*\u001b[39mv_user \u001b[39m+\u001b[39m (\u001b[39m1\u001b[39m\u001b[39m-\u001b[39mbeta)\u001b[39m*\u001b[39mgrad_user\n\u001b[0;32m     <a href='vscode-notebook-cell:/c%3A/Users/cpoor/Downloads/Projects/Matrix%20Factorization/final1.ipynb#X21sZmlsZQ%3D%3D?line=14'>15</a>\u001b[0m     v_anime \u001b[39m=\u001b[39m beta\u001b[39m*\u001b[39mv_anime \u001b[39m+\u001b[39m (\u001b[39m1\u001b[39m\u001b[39m-\u001b[39mbeta)\u001b[39m*\u001b[39mgrad_anime\n",
      "\u001b[1;32mc:\\Users\\cpoor\\Downloads\\Projects\\Matrix Factorization\\final1.ipynb Cell 16\u001b[0m in \u001b[0;36mgradient\u001b[1;34m(df, emb_user, emb_anime)\u001b[0m\n\u001b[0;32m      <a href='vscode-notebook-cell:/c%3A/Users/cpoor/Downloads/Projects/Matrix%20Factorization/final1.ipynb#X21sZmlsZQ%3D%3D?line=1'>2</a>\u001b[0m \u001b[39m\"\"\" Computes the gradient for user and anime embeddings\"\"\"\u001b[39;00m\n\u001b[0;32m      <a href='vscode-notebook-cell:/c%3A/Users/cpoor/Downloads/Projects/Matrix%20Factorization/final1.ipynb#X21sZmlsZQ%3D%3D?line=2'>3</a>\u001b[0m Y \u001b[39m=\u001b[39m create_sparse_matrix(df, emb_user\u001b[39m.\u001b[39mshape[\u001b[39m0\u001b[39m], emb_anime\u001b[39m.\u001b[39mshape[\u001b[39m0\u001b[39m])\n\u001b[1;32m----> <a href='vscode-notebook-cell:/c%3A/Users/cpoor/Downloads/Projects/Matrix%20Factorization/final1.ipynb#X21sZmlsZQ%3D%3D?line=3'>4</a>\u001b[0m predicted \u001b[39m=\u001b[39m create_sparse_matrix(predict(df, emb_user, emb_anime), emb_user\u001b[39m.\u001b[39mshape[\u001b[39m0\u001b[39m], emb_anime\u001b[39m.\u001b[39mshape[\u001b[39m0\u001b[39m], \u001b[39m'\u001b[39m\u001b[39mprediction\u001b[39m\u001b[39m'\u001b[39m)\n\u001b[0;32m      <a href='vscode-notebook-cell:/c%3A/Users/cpoor/Downloads/Projects/Matrix%20Factorization/final1.ipynb#X21sZmlsZQ%3D%3D?line=4'>5</a>\u001b[0m delta \u001b[39m=\u001b[39m(Y\u001b[39m-\u001b[39mpredicted)\n\u001b[0;32m      <a href='vscode-notebook-cell:/c%3A/Users/cpoor/Downloads/Projects/Matrix%20Factorization/final1.ipynb#X21sZmlsZQ%3D%3D?line=5'>6</a>\u001b[0m grad_user \u001b[39m=\u001b[39m (\u001b[39m-\u001b[39m\u001b[39m2\u001b[39m\u001b[39m/\u001b[39mdf\u001b[39m.\u001b[39mshape[\u001b[39m0\u001b[39m])\u001b[39m*\u001b[39m(delta\u001b[39m*\u001b[39memb_anime) \u001b[39m+\u001b[39m \u001b[39m2\u001b[39m\u001b[39m*\u001b[39mlmbda\u001b[39m*\u001b[39memb_user\n",
      "\u001b[1;32mc:\\Users\\cpoor\\Downloads\\Projects\\Matrix Factorization\\final1.ipynb Cell 16\u001b[0m in \u001b[0;36mpredict\u001b[1;34m(df, emb_user, emb_anime)\u001b[0m\n\u001b[0;32m      <a href='vscode-notebook-cell:/c%3A/Users/cpoor/Downloads/Projects/Matrix%20Factorization/final1.ipynb#X21sZmlsZQ%3D%3D?line=0'>1</a>\u001b[0m \u001b[39mdef\u001b[39;00m \u001b[39mpredict\u001b[39m(df, emb_user, emb_anime):\n\u001b[0;32m      <a href='vscode-notebook-cell:/c%3A/Users/cpoor/Downloads/Projects/Matrix%20Factorization/final1.ipynb#X21sZmlsZQ%3D%3D?line=1'>2</a>\u001b[0m     \u001b[39m\"\"\" This function computes df[\"prediction\"] without doing (U*V^T).\u001b[39;00m\n\u001b[0;32m      <a href='vscode-notebook-cell:/c%3A/Users/cpoor/Downloads/Projects/Matrix%20Factorization/final1.ipynb#X21sZmlsZQ%3D%3D?line=2'>3</a>\u001b[0m \u001b[39m    \u001b[39;00m\n\u001b[0;32m      <a href='vscode-notebook-cell:/c%3A/Users/cpoor/Downloads/Projects/Matrix%20Factorization/final1.ipynb#X21sZmlsZQ%3D%3D?line=3'>4</a>\u001b[0m \u001b[39m    Computes df[\"prediction\"] by using elementwise multiplication of the corresponding embeddings and then \u001b[39;00m\n\u001b[0;32m      <a href='vscode-notebook-cell:/c%3A/Users/cpoor/Downloads/Projects/Matrix%20Factorization/final1.ipynb#X21sZmlsZQ%3D%3D?line=4'>5</a>\u001b[0m \u001b[39m    sum to get the prediction u_i*v_j. This avoids creating the dense matrix U*V^T.\u001b[39;00m\n\u001b[0;32m      <a href='vscode-notebook-cell:/c%3A/Users/cpoor/Downloads/Projects/Matrix%20Factorization/final1.ipynb#X21sZmlsZQ%3D%3D?line=5'>6</a>\u001b[0m \u001b[39m    \"\"\"\u001b[39;00m\n\u001b[1;32m----> <a href='vscode-notebook-cell:/c%3A/Users/cpoor/Downloads/Projects/Matrix%20Factorization/final1.ipynb#X21sZmlsZQ%3D%3D?line=6'>7</a>\u001b[0m     df[\u001b[39m'\u001b[39m\u001b[39mprediction\u001b[39m\u001b[39m'\u001b[39m] \u001b[39m=\u001b[39m np\u001b[39m.\u001b[39;49msum(np\u001b[39m.\u001b[39;49mmultiply(emb_anime[df[\u001b[39m'\u001b[39;49m\u001b[39manime_id\u001b[39;49m\u001b[39m'\u001b[39;49m]],emb_user[df[\u001b[39m'\u001b[39;49m\u001b[39muser_id\u001b[39;49m\u001b[39m'\u001b[39;49m]]), axis\u001b[39m=\u001b[39;49m\u001b[39m1\u001b[39;49m)\n\u001b[0;32m      <a href='vscode-notebook-cell:/c%3A/Users/cpoor/Downloads/Projects/Matrix%20Factorization/final1.ipynb#X21sZmlsZQ%3D%3D?line=7'>8</a>\u001b[0m     \u001b[39mreturn\u001b[39;00m df\n",
      "File \u001b[1;32m<__array_function__ internals>:5\u001b[0m, in \u001b[0;36msum\u001b[1;34m(*args, **kwargs)\u001b[0m\n",
      "File \u001b[1;32mc:\\ProgramData\\Anaconda3\\lib\\site-packages\\numpy\\core\\fromnumeric.py:2259\u001b[0m, in \u001b[0;36msum\u001b[1;34m(a, axis, dtype, out, keepdims, initial, where)\u001b[0m\n\u001b[0;32m   2256\u001b[0m         \u001b[39mreturn\u001b[39;00m out\n\u001b[0;32m   2257\u001b[0m     \u001b[39mreturn\u001b[39;00m res\n\u001b[1;32m-> 2259\u001b[0m \u001b[39mreturn\u001b[39;00m _wrapreduction(a, np\u001b[39m.\u001b[39;49madd, \u001b[39m'\u001b[39;49m\u001b[39msum\u001b[39;49m\u001b[39m'\u001b[39;49m, axis, dtype, out, keepdims\u001b[39m=\u001b[39;49mkeepdims,\n\u001b[0;32m   2260\u001b[0m                       initial\u001b[39m=\u001b[39;49minitial, where\u001b[39m=\u001b[39;49mwhere)\n",
      "File \u001b[1;32mc:\\ProgramData\\Anaconda3\\lib\\site-packages\\numpy\\core\\fromnumeric.py:86\u001b[0m, in \u001b[0;36m_wrapreduction\u001b[1;34m(obj, ufunc, method, axis, dtype, out, **kwargs)\u001b[0m\n\u001b[0;32m     83\u001b[0m         \u001b[39melse\u001b[39;00m:\n\u001b[0;32m     84\u001b[0m             \u001b[39mreturn\u001b[39;00m reduction(axis\u001b[39m=\u001b[39maxis, out\u001b[39m=\u001b[39mout, \u001b[39m*\u001b[39m\u001b[39m*\u001b[39mpasskwargs)\n\u001b[1;32m---> 86\u001b[0m \u001b[39mreturn\u001b[39;00m ufunc\u001b[39m.\u001b[39mreduce(obj, axis, dtype, out, \u001b[39m*\u001b[39m\u001b[39m*\u001b[39mpasskwargs)\n",
      "\u001b[1;31mKeyboardInterrupt\u001b[0m: "
     ]
    }
   ],
   "source": [
    "emb_user = create_embeddings(num_users, 3)\n",
    "emb_anime = create_embeddings(num_anime, 3)\n",
    "emb_user, emb_anime = gradient_descent(anime_df, emb_user, emb_anime, iterations=800, learning_rate=1)"
   ]
  },
  {
   "cell_type": "code",
   "execution_count": null,
   "metadata": {},
   "outputs": [],
   "source": [
    "def encode_new_data(valid_df, user_ids, anime_ids):\n",
    "    \"\"\" Encodes valid_df with the same encoding as train_df.\n",
    "    \"\"\"\n",
    "    df_val_chosen = valid_df['anime_id'].isin(anime_ids.keys()) & valid_df['user_id'].isin(user_ids.keys())\n",
    "    valid_df = valid_df[df_val_chosen]\n",
    "    valid_df['anime_id'] =  np.array([anime_ids[x] for x in valid_df['anime_id']])\n",
    "    valid_df['user_id'] = np.array([user_ids[x] for x in valid_df['user_id']])\n",
    "    return valid_df"
   ]
  },
  {
   "cell_type": "code",
   "execution_count": null,
   "metadata": {},
   "outputs": [
    {
     "name": "stdout",
     "output_type": "stream",
     "text": [
      "before encoding: (751207, 4)\n",
      "after encoding: (751207, 4)\n"
     ]
    }
   ],
   "source": [
    "print(\"before encoding:\", valid_df.shape)\n",
    "valid_df = encode_new_data(valid_df, user_ids, anime_ids)\n",
    "print(\"after encoding:\", valid_df.shape)"
   ]
  },
  {
   "cell_type": "code",
   "execution_count": null,
   "metadata": {},
   "outputs": [
    {
     "name": "stdout",
     "output_type": "stream",
     "text": [
      "6.079117082515941 12.274269579755632\n"
     ]
    }
   ],
   "source": [
    "train_mse = cost(train_df, emb_user, emb_anime)\n",
    "val_mse = cost(valid_df, emb_user, emb_anime)\n",
    "print(train_mse, val_mse)"
   ]
  },
  {
   "cell_type": "code",
   "execution_count": null,
   "metadata": {},
   "outputs": [
    {
     "data": {
      "text/html": [
       "<div>\n",
       "<style scoped>\n",
       "    .dataframe tbody tr th:only-of-type {\n",
       "        vertical-align: middle;\n",
       "    }\n",
       "\n",
       "    .dataframe tbody tr th {\n",
       "        vertical-align: top;\n",
       "    }\n",
       "\n",
       "    .dataframe thead th {\n",
       "        text-align: right;\n",
       "    }\n",
       "</style>\n",
       "<table border=\"1\" class=\"dataframe\">\n",
       "  <thead>\n",
       "    <tr style=\"text-align: right;\">\n",
       "      <th></th>\n",
       "      <th>user_id</th>\n",
       "      <th>anime_id</th>\n",
       "      <th>rating</th>\n",
       "      <th>prediction</th>\n",
       "    </tr>\n",
       "  </thead>\n",
       "  <tbody>\n",
       "    <tr>\n",
       "      <th>120</th>\n",
       "      <td>49369</td>\n",
       "      <td>899</td>\n",
       "      <td>7</td>\n",
       "      <td>9.305994</td>\n",
       "    </tr>\n",
       "    <tr>\n",
       "      <th>124</th>\n",
       "      <td>10858</td>\n",
       "      <td>2899</td>\n",
       "      <td>5</td>\n",
       "      <td>6.336065</td>\n",
       "    </tr>\n",
       "    <tr>\n",
       "      <th>125</th>\n",
       "      <td>39831</td>\n",
       "      <td>8424</td>\n",
       "      <td>8</td>\n",
       "      <td>2.694225</td>\n",
       "    </tr>\n",
       "    <tr>\n",
       "      <th>126</th>\n",
       "      <td>50888</td>\n",
       "      <td>101</td>\n",
       "      <td>9</td>\n",
       "      <td>11.457634</td>\n",
       "    </tr>\n",
       "    <tr>\n",
       "      <th>127</th>\n",
       "      <td>65836</td>\n",
       "      <td>5177</td>\n",
       "      <td>7</td>\n",
       "      <td>10.997614</td>\n",
       "    </tr>\n",
       "  </tbody>\n",
       "</table>\n",
       "</div>"
      ],
      "text/plain": [
       "     user_id  anime_id  rating  prediction\n",
       "120    49369       899       7    9.305994\n",
       "124    10858      2899       5    6.336065\n",
       "125    39831      8424       8    2.694225\n",
       "126    50888       101       9   11.457634\n",
       "127    65836      5177       7   10.997614"
      ]
     },
     "execution_count": 28,
     "metadata": {},
     "output_type": "execute_result"
    }
   ],
   "source": [
    "valid_df[70:80].head()"
   ]
  }
 ],
 "metadata": {
  "kernelspec": {
   "display_name": "Python 3.9.12 ('base')",
   "language": "python",
   "name": "python3"
  },
  "language_info": {
   "codemirror_mode": {
    "name": "ipython",
    "version": 3
   },
   "file_extension": ".py",
   "mimetype": "text/x-python",
   "name": "python",
   "nbconvert_exporter": "python",
   "pygments_lexer": "ipython3",
   "version": "3.9.12"
  },
  "orig_nbformat": 4,
  "vscode": {
   "interpreter": {
    "hash": "ad2bdc8ecc057115af97d19610ffacc2b4e99fae6737bb82f5d7fb13d2f2c186"
   }
  }
 },
 "nbformat": 4,
 "nbformat_minor": 2
}
